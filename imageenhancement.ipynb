{
  "nbformat": 4,
  "nbformat_minor": 0,
  "metadata": {
    "colab": {
      "name": "miniproject_imageenhancement",
      "provenance": [],
      "collapsed_sections": [],
      "authorship_tag": "ABX9TyPpNaZtSjoqIe/ZkSge9aOx"
    },
    "kernelspec": {
      "name": "python3",
      "display_name": "Python 3"
    }
  },
  "cells": [
    {
      "cell_type": "code",
      "metadata": {
        "id": "R2ov6uWaTGbw",
        "colab": {
          "base_uri": "https://localhost:8080/"
        },
        "outputId": "c33d777d-1a02-4470-aa63-9bee72411234"
      },
      "source": [
        "from google.colab import drive\n",
        "drive.mount('/content/gdrive')"
      ],
      "execution_count": null,
      "outputs": [
        {
          "output_type": "stream",
          "text": [
            "Mounted at /content/gdrive\n"
          ],
          "name": "stdout"
        }
      ]
    },
    {
      "cell_type": "code",
      "metadata": {
        "id": "OMwGq70KL1bR"
      },
      "source": [
        "path_base = '/content/gdrive/My Drive/ISIC-2017-Org-Train-Data/'"
      ],
      "execution_count": null,
      "outputs": []
    },
    {
      "cell_type": "code",
      "metadata": {
        "id": "MBLAmaZ7lBGV"
      },
      "source": [
        "def shade_of_gray_cc(img, power=6, gamma=2.2):\n",
        "\n",
        "  img_dtype = img.dtype\n",
        "\n",
        "  if gamma is not None:\n",
        "      img = img.astype('uint8')\n",
        "      look_up_table = np.ones((256,1), dtype='uint8') * 0\n",
        "      for i in range(256):\n",
        "          look_up_table[i][0] = 255 * pow(i/255, 1/gamma)\n",
        "      img = cv2.LUT(img, look_up_table)\n",
        "\n",
        "  img = img.astype('float32')\n",
        "  img_power = np.power(img, power)\n",
        "  rgb_vec = np.power(np.mean(img_power, (0,1)), 1/power)\n",
        "  rgb_norm = np.sqrt(np.sum(np.power(rgb_vec, 2.0)))\n",
        "  rgb_vec = rgb_vec/rgb_norm\n",
        "  rgb_vec = 1/(rgb_vec*np.sqrt(3))\n",
        "  img = np.multiply(img, rgb_vec)\n",
        "\n",
        "  img = np.clip(img, a_min=0, a_max=255)\n",
        "  \n",
        "  return img.astype(img_dtype)\n"
      ],
      "execution_count": null,
      "outputs": []
    },
    {
      "cell_type": "code",
      "metadata": {
        "id": "Iac13ZdjzLLN"
      },
      "source": [
        "def enhance2(image,name):\n",
        "  res = shade_of_gray_cc(image)\n",
        "  cv2.imwrite(path_base+\"After-Enhancement-Train-Full-Size/\"+name+'.jpg',res)"
      ],
      "execution_count": null,
      "outputs": []
    },
    {
      "cell_type": "code",
      "metadata": {
        "id": "KfP4ghQ21XGh",
        "colab": {
          "base_uri": "https://localhost:8080/"
        },
        "outputId": "7415b056-c88c-436d-b7f5-d0a5bcfe870c"
      },
      "source": [
        "from tqdm import tqdm\n",
        "import csv\n",
        "import cv2\n",
        "import numpy as np\n",
        "with open('/content/gdrive/MyDrive/ISIC-2017-Org-Train-Data/ISIC-2017_Training_Part3_GroundTruth.csv') as csvDataFile:\n",
        "    csvReader = csv.reader(csvDataFile, delimiter=';')\n",
        "    i = 0\n",
        "    for row in csvReader:\n",
        "      if i == 0:\n",
        "        i += 1\n",
        "        continue\n",
        "      arr = row[0].split(',')\n",
        "      img_name = arr[0]\n",
        "      nextImage = cv2.imread('/content/gdrive/MyDrive/ISIC-2017-Org-Train-Data/ISIC-2017_Training_Data/'+img_name+'.jpg')\n",
        "      enhance2(nextImage,img_name)\n",
        "      i = i+1\n",
        "      if i%100 == 0:\n",
        "        print(\"Completed:\",i)\n",
        "\n"
      ],
      "execution_count": null,
      "outputs": [
        {
          "output_type": "stream",
          "text": [
            "Completed: 100\n",
            "Completed: 200\n",
            "Completed: 300\n",
            "Completed: 400\n",
            "Completed: 500\n",
            "Completed: 600\n",
            "Completed: 700\n",
            "Completed: 800\n",
            "Completed: 900\n",
            "Completed: 1000\n",
            "Completed: 1100\n",
            "Completed: 1200\n",
            "Completed: 1300\n",
            "Completed: 1400\n",
            "Completed: 1500\n",
            "Completed: 1600\n",
            "Completed: 1700\n",
            "Completed: 1800\n",
            "Completed: 1900\n",
            "Completed: 2000\n"
          ],
          "name": "stdout"
        }
      ]
    },
    {
      "cell_type": "code",
      "metadata": {
        "id": "6VnwNVfhkDJR"
      },
      "source": [],
      "execution_count": null,
      "outputs": []
    }
  ]
}